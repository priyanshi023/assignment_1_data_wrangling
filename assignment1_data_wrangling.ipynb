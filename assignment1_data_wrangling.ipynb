{
 "cells": [
  {
   "cell_type": "code",
   "execution_count": 1,
   "id": "faf0f79c",
   "metadata": {},
   "outputs": [],
   "source": [
    "import numpy as np"
   ]
  },
  {
   "cell_type": "code",
   "execution_count": null,
   "id": "f7b6998f",
   "metadata": {},
   "outputs": [],
   "source": [
    "# 1. Create a null vector of size 10 but the fifth value which is 1."
   ]
  },
  {
   "cell_type": "code",
   "execution_count": 2,
   "id": "d7f9cf68",
   "metadata": {},
   "outputs": [
    {
     "data": {
      "text/plain": [
       "array([0., 0., 0., 0., 1., 0., 0., 0., 0., 0.])"
      ]
     },
     "execution_count": 2,
     "metadata": {},
     "output_type": "execute_result"
    }
   ],
   "source": [
    "\n",
    "\n",
    "arry1 = np. zeros(10)\n",
    "arry1[4] = 1\n",
    "arry1"
   ]
  },
  {
   "cell_type": "code",
   "execution_count": null,
   "id": "6a620bbf",
   "metadata": {},
   "outputs": [],
   "source": [
    "#2. Create a vector with values ranging from 10 to 49."
   ]
  },
  {
   "cell_type": "code",
   "execution_count": 3,
   "id": "a0f943d9",
   "metadata": {},
   "outputs": [
    {
     "data": {
      "text/plain": [
       "array([10, 11, 12, 13, 14, 15, 16, 17, 18, 19, 20, 21, 22, 23, 24, 25, 26,\n",
       "       27, 28, 29, 30, 31, 32, 33, 34, 35, 36, 37, 38, 39, 40, 41, 42, 43,\n",
       "       44, 45, 46, 47, 48, 49])"
      ]
     },
     "execution_count": 3,
     "metadata": {},
     "output_type": "execute_result"
    }
   ],
   "source": [
    "arry2=np.arange(10, 50)\n",
    "arry2"
   ]
  },
  {
   "cell_type": "code",
   "execution_count": null,
   "id": "9ef5b6ab",
   "metadata": {},
   "outputs": [],
   "source": [
    "#3. Create a 3x3 matrix with values ranging from 0 to 8"
   ]
  },
  {
   "cell_type": "code",
   "execution_count": 4,
   "id": "963403bf",
   "metadata": {},
   "outputs": [
    {
     "data": {
      "text/plain": [
       "array([[0, 1, 2],\n",
       "       [3, 4, 5],\n",
       "       [6, 7, 8]])"
      ]
     },
     "execution_count": 4,
     "metadata": {},
     "output_type": "execute_result"
    }
   ],
   "source": [
    "arry3=np.arange(0,9).reshape(3,3)\n",
    "arry3"
   ]
  },
  {
   "cell_type": "code",
   "execution_count": null,
   "id": "9cad4ea5",
   "metadata": {},
   "outputs": [],
   "source": [
    "#4. Find indices of non-zero elements from [1,2,0,0,4,0]"
   ]
  },
  {
   "cell_type": "code",
   "execution_count": 6,
   "id": "8fd28776",
   "metadata": {},
   "outputs": [
    {
     "name": "stdout",
     "output_type": "stream",
     "text": [
      "indices of non-zero elements (array([0, 1, 4], dtype=int64),)\n"
     ]
    }
   ],
   "source": [
    "arry4=np.array([1,2,0,0,4,0])\n",
    "new_arry4=np.nonzero(arry4)\n",
    "print('indices of non-zero elements',new_arry4)"
   ]
  },
  {
   "cell_type": "code",
   "execution_count": null,
   "id": "6a359c7a",
   "metadata": {},
   "outputs": [],
   "source": [
    "#5. Create a 10x10 array with random values and find the minimum and maximum values."
   ]
  },
  {
   "cell_type": "code",
   "execution_count": 8,
   "id": "ab1e197b",
   "metadata": {},
   "outputs": [
    {
     "name": "stdout",
     "output_type": "stream",
     "text": [
      "matrix [[0.28719881 0.35530014 0.74900934 0.6651797  0.60454574 0.25699167\n",
      "  0.59700103 0.53781644 0.14566325 0.98292975]\n",
      " [0.89428146 0.48968463 0.3099178  0.07515233 0.37105854 0.10557085\n",
      "  0.86255827 0.0698622  0.38721986 0.47847424]\n",
      " [0.14556831 0.14635468 0.18639598 0.10325154 0.56413644 0.66579762\n",
      "  0.17024933 0.6992328  0.00255569 0.51202648]\n",
      " [0.31144125 0.61529058 0.55786762 0.3453274  0.22732325 0.90379943\n",
      "  0.15379291 0.3910484  0.31425163 0.69595176]\n",
      " [0.39844501 0.8830962  0.46904724 0.04354961 0.53062728 0.39805423\n",
      "  0.42902197 0.06845955 0.21210868 0.92326525]\n",
      " [0.31018705 0.35492509 0.56605256 0.86950895 0.24198176 0.56640574\n",
      "  0.137276   0.76713788 0.95540274 0.63932609]\n",
      " [0.91584206 0.73280095 0.8600976  0.74597999 0.35512857 0.55727704\n",
      "  0.83855382 0.34521507 0.6511648  0.22475756]\n",
      " [0.63219779 0.57618133 0.49197715 0.23648625 0.33936093 0.32714059\n",
      "  0.37718414 0.29488019 0.59212101 0.56634255]\n",
      " [0.1167845  0.03339985 0.44268391 0.39359687 0.29864364 0.70749334\n",
      "  0.97843988 0.5543569  0.73100015 0.71711741]\n",
      " [0.72163665 0.02325091 0.26928768 0.01549012 0.43026183 0.80185083\n",
      "  0.43771725 0.45951206 0.33457529 0.80237841]]\n",
      "minimum value- 0.0025556891816521654\n",
      "maximum value- 0.9829297541640645\n"
     ]
    }
   ],
   "source": [
    "arry5=np.random.random((10,10))\n",
    "print('matrix',arry5  )  \n",
    "print('minimum value-',arry5.min())\n",
    "print('maximum value-',arry5.max())"
   ]
  },
  {
   "cell_type": "code",
   "execution_count": null,
   "id": "47272aef",
   "metadata": {},
   "outputs": [],
   "source": [
    "#6. Create a random vector of size 30 and find the mean value."
   ]
  },
  {
   "cell_type": "code",
   "execution_count": 9,
   "id": "9f99c9e7",
   "metadata": {},
   "outputs": [
    {
     "name": "stdout",
     "output_type": "stream",
     "text": [
      "matrix [71 31 67 50 43 87 60 36 82 91 81 98 48 42 90 82 22 61 48 20 16 79 79 87\n",
      " 95 90 96 89 44 87]\n",
      "mean 65.73333333333333\n"
     ]
    }
   ],
   "source": [
    "arry6=np.random.randint(3,100,30)\n",
    "print('matrix',arry6)\n",
    "print('mean', arry6.mean())\n"
   ]
  },
  {
   "cell_type": "code",
   "execution_count": 10,
   "id": "ff56573a",
   "metadata": {},
   "outputs": [
    {
     "name": "stdout",
     "output_type": "stream",
     "text": [
      "matrix [0.70376524 0.54194581 0.93521481 0.10052186 0.97857721 0.60779438\n",
      " 0.14352381 0.25408724 0.09557249 0.45187494 0.25602256 0.64909463\n",
      " 0.94435738 0.08137469 0.2884841  0.77501952 0.92569734 0.94193001\n",
      " 0.86358307 0.20080954 0.01390171 0.26075966 0.93588467 0.44500013\n",
      " 0.5079616  0.73457847 0.50060036 0.02746287 0.90489051 0.93307414]\n",
      "mean 0.5334454923192153\n"
     ]
    }
   ],
   "source": [
    "arry7=np.random.random((30))\n",
    "print('matrix',arry7)\n",
    "print('mean', arry7.mean())"
   ]
  }
 ],
 "metadata": {
  "kernelspec": {
   "display_name": "Python 3 (ipykernel)",
   "language": "python",
   "name": "python3"
  },
  "language_info": {
   "codemirror_mode": {
    "name": "ipython",
    "version": 3
   },
   "file_extension": ".py",
   "mimetype": "text/x-python",
   "name": "python",
   "nbconvert_exporter": "python",
   "pygments_lexer": "ipython3",
   "version": "3.9.13"
  }
 },
 "nbformat": 4,
 "nbformat_minor": 5
}
